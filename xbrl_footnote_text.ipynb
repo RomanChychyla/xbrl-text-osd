{
 "cells": [
  {
   "cell_type": "markdown",
   "metadata": {
    "pycharm": {
     "name": "#%% md\n"
    }
   },
   "source": [
    "# Getting financial statement footnote text from XBRL data\n",
    "\n",
    "This notebook contains example Python code to extract text of footnotes to the financial statements as reported in XBRL 10-K using [Financial Statements and Notes Data Sets](https://www.sec.gov/dera/data/financial-statement-and-notes-data-set.html) provided by the Office of Structured Disclosure at the SEC.\n",
    "\n",
    "**Made by:**  [Roman Chychyla](https://people.miami.edu/profile/rxc303@miami.edu)"
   ]
  },
  {
   "cell_type": "markdown",
   "metadata": {
    "pycharm": {
     "name": "#%% md\n"
    }
   },
   "source": [
    "## Textual information in XBRL corporate reports - Background\n",
    "\n",
    "### What textual information is included in XBRL?\n",
    "XBRL filings include text blocks of financial statement footnotes *only*, and not of other sections (e.g., business description, risk factors, or management's discussion and analysis sections). Nevertheless, extracting individual footnote textual information from regular plain-text/HTML filings is significantly more difficult compared to text in other sections (because financial statement footnotes greatly vary in formatting and placement across filers). For Python examples on how to extract text of sections other than financial statement footnotes, see [Using Python for Text Analysis in Accounting Research](https://papers.ssrn.com/sol3/papers.cfm?abstract_id=3576098).\n",
    "\n",
    "### What do I need to know to extract a specific footnote from XBRL 10-K document?\n",
    "The most important piece of information to know is a set of possible XBRL tags used to represent the text blocks of a specific footnote. For example, Significant Accounting Policies footnote can be represented using one of the following standard US-GAAP XBRL tags:\n",
    "\n",
    "- *SignificantAccountingPoliciesTextBlock*\n",
    "- *BasisOfPresentationAndSignificantAccountingPoliciesTextBlock*\n",
    "- *OrganizationConsolidationAndPresentationOfFinancialStatementsDisclosureAndSignificantAccountingPoliciesTextBlock*\n",
    "\n",
    "On the other hand, income tax footnote text is tagged using only one XBRL concept:\n",
    "- *IncomeTaxDisclosureTextBlock*\n",
    "\n",
    "### How do I identify XBRL tags for a given footnote?\n",
    "You can search for a specific tags used to represent footnotes either through [XBRL Taxonomy Viewer](https://xbrlview.fasb.org) viewer or by downloading taxonomy files from the [FASB's website](https://fasb.org/Page/PageContent?PageId=/xbrl/2022financial.html).\n",
    "\n",
    "Another option is to examine a sample of XBRL 10-K filings to identify common XBRL tags used for footnotes:\n",
    "\n",
    "[Microsoft, 2021 10-K](https://www.sec.gov/ix?doc=/Archives/edgar/data/789019/000156459021039151/msft-10k_20210630.htm)\n",
    "\n",
    "[Home Depot, 2020 10-K](https://www.sec.gov/ix?doc=/Archives/edgar/data/0000354950/000035495021000089/hd-20210131.htm)\n",
    "\n",
    "[General Motors, 2020 10-K](https://www.sec.gov/ix?doc=/Archives/edgar/data/1467858/000146785822000034/gm-20211231.htm)"
   ]
  },
  {
   "cell_type": "markdown",
   "metadata": {
    "pycharm": {
     "name": "#%% md\n"
    }
   },
   "source": [
    "## Extracting textual information from XBRL reports: practical considerations\n",
    "\n",
    "While it is possible to identify, collect, and parse text blocks from raw XBRL filings (as submitted to the SEC by the filers), it is a difficult task. Therefore, the Office of Structured Disclosure (OSD) created publicly available datasets with numeric and textual data extracted from XBRL filings. The benefit of these datasets is that they are reported in a tabular format and textual data has been converted from HTML format to plain-text.\n",
    "\n",
    "The datasets are available through this [link](https://www.sec.gov/dera/data/financial-statement-and-notes-data-set.html) and are organized into year-quarter (before 2020) and year-month (since 2020) archive files. Each such archive contains information about the XBRL filings filed in the given *calendar period* (e.g., accession number, company name, report date, etc.) and XBRL data.\n",
    "\n",
    "Therefore, we can use Python (or other programming language) to:\n",
    " 1) read filing information table,\n",
    " 2) read tables with data and keep only relevant footnotes (e.g., income tax footnote), and\n",
    " 3) merge filing information and textual data into one table.\n",
    "\n",
    "The output dataset can be further used for automated textual analysis."
   ]
  },
  {
   "cell_type": "markdown",
   "metadata": {
    "pycharm": {
     "name": "#%% md\n"
    }
   },
   "source": [
    "## Example: Getting Significant Accounting Policies footnote from XBRL reports using Python\n",
    "\n",
    "To illustrate how to extract footnote texts from multiple XBRL reports and put them in a table, we will focus on Significant Accounting Policies footnote and use one month of XBRL data."
   ]
  },
  {
   "cell_type": "code",
   "execution_count": null,
   "metadata": {
    "collapsed": false,
    "jupyter": {
     "outputs_hidden": false
    },
    "pycharm": {
     "name": "#%%\n"
    }
   },
   "outputs": [],
   "source": [
    "# python library to work with files and folders paths (locations)\n",
    "from pathlib import Path\n",
    "\n",
    "# we will set the current folder (Path.cwd()) as a working directory\n",
    "working_folder = Path.cwd()\n",
    "\n",
    "# set month and year input parameters (these can be modified, if needed)\n",
    "year = 2021\n",
    "month = 1\n",
    "\n",
    "# we will consider 10-K and 10-K/A reports. \n",
    "# Sometimes companies are late to file XBRL data in their 10-Ks, and include XBRL data in subsequent amendments (10-K/As)\n",
    "form_types = ['10-K','10-K/A']\n",
    "\n",
    "# specify a list of XBRL footnote tags to be extracted\n",
    "footnote_tags = ['SignificantAccountingPoliciesTextBlock','BasisOfPresentationAndSignificantAccountingPoliciesTextBlock','OrganizationConsolidationAndPresentationOfFinancialStatementsDisclosureAndSignificantAccountingPoliciesTextBlock']"
   ]
  },
  {
   "cell_type": "markdown",
   "metadata": {
    "pycharm": {
     "name": "#%% md\n"
    }
   },
   "source": [
    "First, we need to download the archive file with XBRL data for the desired period. This can be done either manually or programmatically. We will choose the later because such code can be reused in the future."
   ]
  },
  {
   "cell_type": "code",
   "execution_count": null,
   "metadata": {
    "collapsed": false,
    "jupyter": {
     "outputs_hidden": false
    },
    "pycharm": {
     "name": "#%%\n"
    }
   },
   "outputs": [],
   "source": [
    "# library to handle HTTP requests and downloads\n",
    "import requests\n",
    "# library for file operations\n",
    "import shutil\n",
    "# library for working with (zip) archives\n",
    "import zipfile\n",
    "\n",
    "# define a function to download OSD's XBRL parsed data for a given year/month (only works for years after 2020)\n",
    "# this needs to be modified for years before 2020, because that data is at the quarterly data;\n",
    "def download_xbrl_fin_notes(year,month):\n",
    "    # generate the archive file name based on the input year and month\n",
    "    filename =  f'{year}_{month:02}_notes.zip'\n",
    "    # generate the download link\n",
    "    url = f'https://www.sec.gov/files/dera/data/financial-statement-and-notes-data-sets/' + filename\n",
    "    # set the output file path\n",
    "    output_file = working_folder / filename\n",
    "    # do nothing if the output file already exists\n",
    "    if not output_file.exists():\n",
    "        # else\n",
    "        # create a HTTP request to download the file\n",
    "        req = requests.get(url, stream = True)\n",
    "        # if the request is successful (with status code of 200), proceed\n",
    "        if req.status_code == 200:\n",
    "            # create a file object to write contents of the archive\n",
    "            with open (working_folder / filename,'wb') as file:\n",
    "                # download the file\n",
    "                shutil.copyfileobj(req.raw,file)\n",
    "            # once downloaded, extract the archive to a folder of the same name\n",
    "            with zipfile.ZipFile(output_file,'r') as zip:\n",
    "                # create the output folder\n",
    "                output_folder = working_folder / output_file.stem\n",
    "                output_folder.mkdir(exist_ok=True,parents=True)\n",
    "                # extract data in the output folder\n",
    "                zip.extractall(output_folder)"
   ]
  },
  {
   "cell_type": "code",
   "execution_count": null,
   "metadata": {
    "collapsed": false,
    "jupyter": {
     "outputs_hidden": false
    },
    "pycharm": {
     "name": "#%%\n"
    }
   },
   "outputs": [],
   "source": [
    "# apply the above function to the given year month\n",
    "download_xbrl_fin_notes(year,month)"
   ]
  },
  {
   "cell_type": "markdown",
   "metadata": {
    "pycharm": {
     "name": "#%% md\n"
    }
   },
   "source": [
    "Now, we are ready to read and process XBRL data. We will focus on two files inside the folder with extracted archive contents:\n",
    "\n",
    "1) **sub.tsv** - contains information about XBRL filings and their filers;\n",
    "2) **txt.tsv** - contains textual content extracted from XBRL filings.\n",
    "\n",
    "The extension *.tsv* stands for \"tab-separated values\". It is similar to *.csv* (comma-separated values) format, but uses tab characters instead of commas (useful, when there are comma in values such as company names)."
   ]
  },
  {
   "cell_type": "code",
   "execution_count": null,
   "metadata": {
    "collapsed": false,
    "jupyter": {
     "outputs_hidden": false
    },
    "pycharm": {
     "name": "#%%\n"
    }
   },
   "outputs": [],
   "source": [
    "# library to work with tabular data\n",
    "import pandas as pd\n",
    "\n",
    "# generate file path of the sub.tsv file\n",
    "sub_file = working_folder / f'{year}_{month:02}_notes' / 'sub.tsv'\n",
    "\n",
    "# read the file into pandas dataframe (table)\n",
    "df_sub = pd.read_csv(sub_file, sep = '\\t')\n",
    "\n",
    "# display the first five records of the dataframe to check that the data loaded correctly and get a sense of its structure\n",
    "df_sub.head()"
   ]
  },
  {
   "cell_type": "markdown",
   "metadata": {
    "pycharm": {
     "name": "#%% md\n"
    }
   },
   "source": [
    "We will focus on the key variables in this dataset (and ignore the rest):\n",
    "- `adsh` - Accession Number. The 20-character string formed from the 18-digit number assigned by the Commission to each EDGAR submission;\n",
    "- `cik` - Central Index Key (CIK). Ten digit number assigned by the Commission to each registrant that submits filings;\n",
    "- `name` - Name of registrant. This corresponds to the name of the legal entity as recorded in EDGAR as of the filing date;\n",
    "- `sic` - Standard Industrial Classification (SIC). Four digit code assigned by the Commission as of the filing date, indicating the registrant's type of business.\n",
    "- `form` - The submission type of the registrant's filing;\n",
    "- `period` - Date of Balance Sheet, rounded to nearest month-end;\n",
    "- `filed` - The date of the registrant's filing with the Commission."
   ]
  },
  {
   "cell_type": "code",
   "execution_count": null,
   "metadata": {
    "collapsed": false,
    "jupyter": {
     "outputs_hidden": false
    },
    "pycharm": {
     "name": "#%%\n"
    }
   },
   "outputs": [],
   "source": [
    "# keep only to the variables of interest\n",
    "df_sub = df_sub[['adsh','cik','name','sic','form','period','filed']]\n",
    "\n",
    "# display the first rows of the resulting dataframe\n",
    "df_sub.head()"
   ]
  },
  {
   "cell_type": "markdown",
   "metadata": {
    "pycharm": {
     "name": "#%% md\n"
    }
   },
   "source": [
    "In addition, we will only consider 10-Ks and 10-K/A filings."
   ]
  },
  {
   "cell_type": "code",
   "execution_count": null,
   "metadata": {
    "collapsed": false,
    "jupyter": {
     "outputs_hidden": false
    },
    "pycharm": {
     "name": "#%%\n"
    }
   },
   "outputs": [],
   "source": [
    "# keep only obserations that correspond to 10-K and 10-K/A form types\n",
    "df_sub_filtered = df_sub[df_sub['form'].isin(form_types)]\n",
    "\n",
    "# print the first 10 records of the new dataframe\n",
    "df_sub_filtered.head(10)"
   ]
  },
  {
   "cell_type": "markdown",
   "metadata": {
    "pycharm": {
     "name": "#%% md\n"
    }
   },
   "source": [
    "Next, we will use Python to read the dataset with XBRL text content, **txt.tsv**."
   ]
  },
  {
   "cell_type": "code",
   "execution_count": null,
   "metadata": {
    "collapsed": false,
    "jupyter": {
     "outputs_hidden": false
    },
    "pycharm": {
     "name": "#%%\n"
    }
   },
   "outputs": [],
   "source": [
    "# generate file path to the txt.tsv file\n",
    "txt_file = working_folder / f'{year}_{month:02}_notes' / 'txt.tsv'\n",
    "\n",
    "# read the file into df_txt pandas dataframe\n",
    "df_txt = pd.read_csv(txt_file, sep = '\\t')\n",
    "# display the first five rows\n",
    "df_txt.head()"
   ]
  },
  {
   "cell_type": "markdown",
   "metadata": {
    "pycharm": {
     "name": "#%% md\n"
    }
   },
   "source": [
    "To make the table simpler, we will only consider the following variables:\n",
    "- `adsh` - Accession Number. The 20-character string formed from the 18-digit number assigned by the Commission to each EDGAR submission;\n",
    "- `tag` - XBRL tag (concepts) of a given observation;\n",
    "- `qtrs` - The count of the number of quarters represented by the data value, rounded to the nearest whole number. Value 0 represent point-in-time values;\n",
    "- `ddate` - The end date for the data value, rounded to the nearest month end;\n",
    "- `value` - The actual value of the concept (in our case, text);"
   ]
  },
  {
   "cell_type": "code",
   "execution_count": null,
   "metadata": {
    "collapsed": false,
    "jupyter": {
     "outputs_hidden": false
    },
    "pycharm": {
     "name": "#%%\n"
    }
   },
   "outputs": [],
   "source": [
    "# keep only to the variables of interest\n",
    "df_txt = df_txt[['adsh','tag','qtrs','ddate','value']]\n",
    "\n",
    "# display the first rows of the resulting dataframe\n",
    "df_txt.head()"
   ]
  },
  {
   "cell_type": "markdown",
   "metadata": {
    "pycharm": {
     "name": "#%% md\n"
    }
   },
   "source": [
    "Next we will merge the submission dataframe (the one we create before) with the current (textual data) dataframe. This will a) ensure that we consider only 10-K and 10-K/A filings (that we filtered on previously) and b) add submission information to the textual data. The primary key (unique observation identifier) in the both data sets is the same -  **adsh** (accession number). We will merge the two datasets based on the values of **adsh**."
   ]
  },
  {
   "cell_type": "code",
   "execution_count": null,
   "metadata": {
    "collapsed": false,
    "jupyter": {
     "outputs_hidden": false
    },
    "pycharm": {
     "name": "#%%\n"
    }
   },
   "outputs": [],
   "source": [
    "# merge the datasets\n",
    "df_txt_filtered = df_sub_filtered.merge(df_txt, on = 'adsh')\n",
    "# display the first five records\n",
    "df_txt_filtered.head()"
   ]
  },
  {
   "cell_type": "markdown",
   "metadata": {
    "pycharm": {
     "name": "#%% md\n"
    }
   },
   "source": [
    "Finally, we only need to keep text of Significant Accounting Policy footnote. That is, we will only keep observations with tag names matching names in the previously-defined `footnote_tags` list."
   ]
  },
  {
   "cell_type": "code",
   "execution_count": null,
   "metadata": {
    "collapsed": false,
    "jupyter": {
     "outputs_hidden": false
    },
    "pycharm": {
     "name": "#%%\n"
    }
   },
   "outputs": [],
   "source": [
    "# keep only records corresponding to Significant Accounting Policies\n",
    "df_fn = df_txt_filtered[df_txt_filtered['tag'].isin(footnote_tags)].reset_index(drop=True)\n",
    "# display the first ten records\n",
    "df_fn.head(10)"
   ]
  },
  {
   "cell_type": "markdown",
   "metadata": {
    "pycharm": {
     "name": "#%% md\n"
    }
   },
   "source": [
    "Finally, we will save the resulting table as a tab-separated values file."
   ]
  },
  {
   "cell_type": "code",
   "execution_count": null,
   "metadata": {
    "collapsed": false,
    "jupyter": {
     "outputs_hidden": false
    },
    "pycharm": {
     "name": "#%%\n"
    }
   },
   "outputs": [],
   "source": [
    "# generate the output file path\n",
    "footnote_output_path = working_folder / (f'{year}_{month:02}_footnote_text.tsv')\n",
    "\n",
    "# save the final dataframe to the file\n",
    "df_fn.to_csv(footnote_output_path, sep=\"\\t\", index=False)"
   ]
  },
  {
   "cell_type": "markdown",
   "metadata": {
    "pycharm": {
     "name": "#%% md\n"
    }
   },
   "source": [
    "## Bonus: What to do next?\n",
    "\n",
    "After we extract footnotes we can apply textual analysis methods to the extracted text.\n",
    "\n",
    "For example, let's take a random footnote from the dataset:"
   ]
  },
  {
   "cell_type": "code",
   "execution_count": null,
   "metadata": {
    "collapsed": false,
    "jupyter": {
     "outputs_hidden": false
    },
    "pycharm": {
     "name": "#%%\n"
    }
   },
   "outputs": [],
   "source": [
    "# get footnote text for the third observation\n",
    "# in Python numbering starts with 0; therefore third observation has index (sequantial number) of 2\n",
    "text = df_fn.iloc[0]['value']\n",
    "\n",
    "print(text)"
   ]
  },
  {
   "cell_type": "markdown",
   "metadata": {
    "pycharm": {
     "name": "#%% md\n"
    }
   },
   "source": [
    "We can apply textual analysis methods to this text. For instance, let's extract all the words in the footnote: "
   ]
  },
  {
   "cell_type": "code",
   "execution_count": null,
   "metadata": {
    "collapsed": false,
    "jupyter": {
     "outputs_hidden": false
    },
    "pycharm": {
     "name": "#%%\n"
    }
   },
   "outputs": [],
   "source": [
    "# library to work with text patters using regular expression language\n",
    "import re\n",
    "# regular expression '\\b[a-zA-Z\\'\\-]+\\b' searches for all words in text, allowing apostrophes and hyphens in words, e.g., company's, state-of-the-art\n",
    "rx_word = re.compile(r'\\b[a-zA-Z\\'-]+\\b')\n",
    "\n",
    "#extract all words\n",
    "words = rx_word.findall((text))\n",
    "# output the first 100 words\n",
    "words[:100]"
   ]
  },
  {
   "cell_type": "markdown",
   "metadata": {
    "pycharm": {
     "name": "#%% md\n"
    }
   },
   "source": [
    "Now we can count the length of footnote as the total number of words:"
   ]
  },
  {
   "cell_type": "code",
   "execution_count": null,
   "metadata": {
    "collapsed": false,
    "jupyter": {
     "outputs_hidden": false
    },
    "pycharm": {
     "name": "#%%\n"
    }
   },
   "outputs": [],
   "source": [
    "print('Number of words in the footnote:',len(words))"
   ]
  },
  {
   "cell_type": "markdown",
   "metadata": {
    "pycharm": {
     "name": "#%% md\n"
    }
   },
   "source": [
    "We can automate this procedure and calculate lengths of all footnotes in our final dataset:"
   ]
  },
  {
   "cell_type": "code",
   "execution_count": null,
   "metadata": {
    "collapsed": false,
    "jupyter": {
     "outputs_hidden": false
    },
    "pycharm": {
     "name": "#%%\n"
    }
   },
   "outputs": [],
   "source": [
    "# library to work with text patters using regular expression language\n",
    "import re\n",
    "# regular expression '\\b[a-zA-Z\\'\\-]+\\b' searches for all words in text, allowing apostrophes and hyphens in words, e.g., company's, state-of-the-art\n",
    "rx_word = re.compile(r'\\b[a-zA-Z\\'-]+\\b')\n",
    "\n",
    "def count_words(text):\n",
    "    \"\"\"Counts number of words in the input text.\"\"\"\n",
    "    \n",
    "    #extract all words\n",
    "    words = rx_word.findall((text))\n",
    "    # output the word count\n",
    "    return len(words)"
   ]
  },
  {
   "cell_type": "code",
   "execution_count": null,
   "metadata": {
    "collapsed": false,
    "jupyter": {
     "outputs_hidden": false
    },
    "pycharm": {
     "name": "#%%\n"
    }
   },
   "outputs": [],
   "source": [
    "# create a new variable fn_length by applyting count_words to the text of each footnote in the table\n",
    "df_fn['fn_length'] = df_fn.apply(lambda row: count_words(row['value']), axis = 1)\n",
    "\n",
    "# display the first ten records of the dataset\n",
    "df_fn.head(10)"
   ]
  }
 ],
 "metadata": {
  "kernelspec": {
   "display_name": "Python 3 (ipykernel)",
   "language": "python",
   "name": "python3"
  },
  "language_info": {
   "codemirror_mode": {
    "name": "ipython",
    "version": 3
   },
   "file_extension": ".py",
   "mimetype": "text/x-python",
   "name": "python",
   "nbconvert_exporter": "python",
   "pygments_lexer": "ipython3",
   "version": "3.9.12"
  }
 },
 "nbformat": 4,
 "nbformat_minor": 4
}
